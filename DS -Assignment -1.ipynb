{
 "cells": [
  {
   "cell_type": "markdown",
   "metadata": {},
   "source": [
    "# Assignment 1 | 4th January 2021 | Data Structures & Algorithms "
   ]
  },
  {
   "cell_type": "markdown",
   "metadata": {},
   "source": [
    "1.) Find the time complexity for the following scenarios\n",
    "        \n",
    "        a.) for(i=1;i<=n;i++)\n",
    "                for(j=i;i<=n;j++)\n",
    "                    printf(\"Hi\");\n",
    "                    \n",
    "           Ans - O(n^2) = O(n)"
   ]
  },
  {
   "cell_type": "markdown",
   "metadata": {},
   "source": [
    "        b.) for(i=1;i<=n;i*=3)\n",
    "                for(j=1;i<=n;j++)\n",
    "                    printf(\"Hello\")\n",
    "            \n",
    "        Ans- O(nlogn)"
   ]
  }
 ],
 "metadata": {
  "kernelspec": {
   "display_name": "Python 3",
   "language": "python",
   "name": "python3"
  },
  "language_info": {
   "codemirror_mode": {
    "name": "ipython",
    "version": 3
   },
   "file_extension": ".py",
   "mimetype": "text/x-python",
   "name": "python",
   "nbconvert_exporter": "python",
   "pygments_lexer": "ipython3",
   "version": "3.8.3"
  }
 },
 "nbformat": 4,
 "nbformat_minor": 4
}
