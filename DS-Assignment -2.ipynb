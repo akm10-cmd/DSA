{
 "cells": [
  {
   "cell_type": "markdown",
   "metadata": {},
   "source": [
    "# Assignment 2 | 5th January 2021 | DSA"
   ]
  },
  {
   "cell_type": "raw",
   "metadata": {},
   "source": [
    "1. Write a program to print the following pattern\n",
    "\n",
    "1\n",
    "2*2\n",
    "3*3*3\n",
    "4*4*4*4"
   ]
  },
  {
   "cell_type": "code",
   "execution_count": 1,
   "metadata": {},
   "outputs": [
    {
     "name": "stdout",
     "output_type": "stream",
     "text": [
      "Enter the no. of rows :5\n",
      "1\n",
      "2 * 2\n",
      "3 * 3 * 3\n",
      "4 * 4 * 4 * 4\n",
      "5 * 5 * 5 * 5 * 5\n"
     ]
    }
   ],
   "source": [
    "n = int(input(\"Enter the no. of rows :\"))\n",
    "for i in range(1, n+1):\n",
    "    for j in range(1, i+1):\n",
    "        if(i>j):\n",
    "            print(i,\"* \", end=\"\")\n",
    "        else:\n",
    "            print(i,end=\"\")\n",
    "    print()"
   ]
  },
  {
   "cell_type": "markdown",
   "metadata": {},
   "source": [
    "# 2. Write a program to print the following pattern\n",
    "1\n",
    "01\n",
    "101\n",
    "0101\n",
    "10101\n"
   ]
  },
  {
   "cell_type": "code",
   "execution_count": 6,
   "metadata": {},
   "outputs": [
    {
     "name": "stdout",
     "output_type": "stream",
     "text": [
      "Enter the no. of rows: 5\n",
      "1 \n",
      "0 1 \n",
      "1 0 1 \n",
      "0 1 0 1 \n",
      "1 0 1 0 1 \n"
     ]
    }
   ],
   "source": [
    "n = int(input(\"Enter the no. of rows: \"))\n",
    "for i in range(1,n+1):\n",
    "    for j in range(1,i+1):\n",
    "        if((i+j)%2 ==1):\n",
    "            print(0, end=\" \")\n",
    "        else:\n",
    "            print(1,end=\" \")\n",
    "    print()"
   ]
  },
  {
   "cell_type": "markdown",
   "metadata": {},
   "source": [
    "# 3. Write the similarity and difference between an array name and a pointer variable.\n",
    "\n",
    "A pointer is a place in memory that keeps addres of another place inside\n",
    "\n",
    "An array is a single, pre allocated chunk of contiguous elements (all of the same type), fixedin size and location.\n",
    "\n",
    "pointer allows us to indirectly access variables. In other words, we can talk about its address rather than its value.\n",
    "\n",
    "Arrays, Expression a[4] refers to the 5th element of the array a.\n",
    "\n",
    "Pointer can’t be initialized at definition.             \n",
    "\n",
    "Array can be initialized at definition. Example int num[] = { 2, 4, 5}\n",
    "\n",
    "Pointer is dynamic in nature. The memory allocation can be resized or freed later.\n",
    "\n",
    "Arrays are static in nature. Once memory is allocated , it cannot be resized or freed dynamically\n",
    "                                                                "
   ]
  }
 ],
 "metadata": {
  "kernelspec": {
   "display_name": "Python 3",
   "language": "python",
   "name": "python3"
  },
  "language_info": {
   "codemirror_mode": {
    "name": "ipython",
    "version": 3
   },
   "file_extension": ".py",
   "mimetype": "text/x-python",
   "name": "python",
   "nbconvert_exporter": "python",
   "pygments_lexer": "ipython3",
   "version": "3.8.3"
  }
 },
 "nbformat": 4,
 "nbformat_minor": 4
}
